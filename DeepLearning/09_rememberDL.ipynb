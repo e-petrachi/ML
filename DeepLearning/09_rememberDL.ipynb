{
 "cells": [
  {
   "cell_type": "markdown",
   "metadata": {
    "collapsed": true
   },
   "source": [
    "# Deep Neural Networks"
   ]
  },
  {
   "cell_type": "code",
   "execution_count": 57,
   "metadata": {},
   "outputs": [],
   "source": [
    "from __future__ import print_function\n",
    "import numpy as np\n",
    "import tensorflow as tf\n",
    "# Python 2 and 3 Compatibility Library\n",
    "from six.moves import cPickle as pickle"
   ]
  },
  {
   "cell_type": "code",
   "execution_count": 58,
   "metadata": {},
   "outputs": [],
   "source": [
    "pickle_file = \"DeepLearning/data/notMNIST.pickle\"\n",
    "\n",
    "with open(pickle_file, 'rb') as f:\n",
    "  save = pickle.load(f)\n",
    "  \n",
    "  train_data_raw = save['train_dataset']\n",
    "  train_target_raw = save['train_labels']\n",
    "  \n",
    "  valid_data_raw = save['valid_dataset']\n",
    "  valid_target_raw = save['valid_labels']\n",
    "  \n",
    "  test_data_raw = save['test_dataset']\n",
    "  test_target_raw = save['test_labels']\n",
    "  \n",
    "  del save  \n",
    "\n",
    "def reformat(dataset, labels):\n",
    "  dataset = dataset.reshape(\n",
    "    (-1, image_size, image_size, num_channels)).astype(np.float32)\n",
    "  labels = (np.arange(num_labels) == labels[:,None]).astype(np.float32)\n",
    "  return dataset, labels\n",
    "\n",
    "def accuracy(predictions, labels):\n",
    "  return (100.0 * np.sum(np.argmax(predictions, 1) == np.argmax(labels, 1))\n",
    "          / predictions.shape[0])"
   ]
  },
  {
   "cell_type": "code",
   "execution_count": 59,
   "metadata": {},
   "outputs": [],
   "source": [
    "def output_size_pool(input_size, conv_filter_size, pool_filter_size, \n",
    "                                    padding, conv_stride, pool_stride):\n",
    "    if padding == 'SAME':\n",
    "        padding = -1.00\n",
    "    elif padding == 'VALID':\n",
    "        padding = 0.00\n",
    "    else:\n",
    "        return None\n",
    "    \n",
    "    output_1 = (((input_size - conv_filter_size - 2*padding)\n",
    "                                        / conv_stride) + 1.00)\n",
    "    print('output1: ', output_1)\n",
    "    \n",
    "    output_2 = (((output_1 - pool_filter_size - 2*padding) \n",
    "                                        / pool_stride) + 1.00)    \n",
    "    print('output2: ', output_2)\n",
    "    \n",
    "    output_3 = (((output_2 - conv_filter_size - 2*padding) \n",
    "                                        / conv_stride) + 1.00)\n",
    "    print('output3: ', output_3)\n",
    "    \n",
    "    output_4 = (((output_3 - pool_filter_size - 2*padding) \n",
    "                                        / pool_stride) + 1.00)  \n",
    "    print('output4: ', output_4)\n",
    "    \n",
    "    return int(output_4)\n"
   ]
  },
  {
   "cell_type": "markdown",
   "metadata": {},
   "source": [
    "### IPERPARAMETRI"
   ]
  },
  {
   "cell_type": "code",
   "execution_count": 60,
   "metadata": {},
   "outputs": [],
   "source": [
    "#\n",
    "# INPUT\n",
    "#\n",
    "# La dimensione delle immagini 28x28\n",
    "image_size = 28\n",
    "# la dimensione della colonna target 10x1\n",
    "num_labels = 10\n",
    "# La profondita' dei dati in input\n",
    "num_channels = 1 \n",
    "# 1 = scala di grigi\n",
    "\n",
    "#\n",
    "# DATASET \n",
    "#\n",
    "train_data, train_target = reformat(train_data_raw, train_target_raw)\n",
    "valid_data, valid_target = reformat(valid_data_raw, valid_target_raw)\n",
    "test_data,   test_target = reformat(test_data_raw,   test_target_raw)\n",
    "\n",
    "#\n",
    "# FILTERS\n",
    "#\n",
    "# Dimensione del minibatch\n",
    "batch_size = 16\n",
    "# Dimensione della finestra convoluzione 5x5\n",
    "patch_size = 5\n",
    "# Numero di features (o profondita') del filtro \n",
    "depth = 32\n",
    "# Nodi dell'hidden layer\n",
    "num_hidden = 64\n",
    "# Numero di celle che il filtro scorre \n",
    "stride = 1\n",
    "# Dimensione della finestra pooling 2x2\n",
    "pool_size = 2 \n",
    "# Numero di celle che il pooling scorre \n",
    "pool_stride = 2\n",
    "# Probabilita' del Dropout\n",
    "keep_prob = 0.5"
   ]
  },
  {
   "cell_type": "code",
   "execution_count": 61,
   "metadata": {},
   "outputs": [
    {
     "name": "stdout",
     "output_type": "stream",
     "text": [
      "output1:  24.0\noutput2:  12.0\noutput3:  8.0\noutput4:  4.0\n"
     ]
    }
   ],
   "source": [
    "x = output_size_pool(image_size, patch_size, pool_size, 'VALID', stride, pool_stride)"
   ]
  },
  {
   "cell_type": "markdown",
   "metadata": {},
   "source": [
    "### ARCHITETTURA TENSORFLOW"
   ]
  },
  {
   "cell_type": "markdown",
   "metadata": {},
   "source": [
    "IN -> CNN -> RELU + POOL -> CNN -> RELU + POOL -> \n",
    "\n",
    "-> RESHAPE -> FULL + RELU + DROPOUT -> FULL + RELU + DROPOUT -> FULL(OUT)"
   ]
  },
  {
   "cell_type": "code",
   "execution_count": 67,
   "metadata": {},
   "outputs": [],
   "source": [
    "graph = tf.Graph()\n",
    "\n",
    "with graph.as_default():\n",
    "    \n",
    "    # Per i minibatch utilizzo placeholder\n",
    "    tf_train_data = tf.placeholder(tf.float32,\n",
    "            shape=(batch_size, image_size, image_size, num_channels))\n",
    "    tf_train_target = tf.placeholder(tf.float32,\n",
    "            shape=(batch_size,                         num_labels))\n",
    "    \n",
    "    # Senza minibatch\n",
    "    tf_valid_data = tf.constant(valid_data)\n",
    "    tf_test_data  = tf.constant(test_data)\n",
    "    \n",
    "    # Layer1 CNN + RELU + POOL\n",
    "    # Dimens   = l_finestra, h_finestra, prof_input, prof_output\n",
    "    dim_layer1 = [patch_size, patch_size, num_channels, depth]\n",
    "    # Pesi RANDOM + TRUNCATE valori troppo bassi o alti\n",
    "    tf_layer1_pesi = tf.Variable(\n",
    "                tf.truncated_normal(dim_layer1, stddev=0.1))\n",
    "    # Bias RANDOM (0)\n",
    "    tf_layer1_bias = tf.Variable(tf.zeros([depth]))\n",
    "    \n",
    "    # Layer2 CNN + RELU + POOL\n",
    "    # Dimens   = l_finestra, h_finestra, prof_input, prof_output\n",
    "    dim_layer2 = [patch_size, patch_size, depth, depth]\n",
    "    # Pesi RANDOM + TRUNCATE \n",
    "    tf_layer2_pesi = tf.Variable(\n",
    "                tf.truncated_normal(dim_layer2, stddev=0.1))\n",
    "    # Bias RANDOM (1)\n",
    "    tf_layer2_bias = tf.Variable(tf.constant(1.0, shape=[depth]))\n",
    "    \n",
    "    # Layer3 FULL\n",
    "    # Dimens   = 2CNN+2POOL * 2CNN+2POOL * prof_in, prof_ou\n",
    "    dim_layer3 = [x * x * depth, num_hidden]\n",
    "    # Pesi RANDOM + TRUNCATE \n",
    "    tf_layer3_pesi = tf.Variable(\n",
    "                tf.truncated_normal(dim_layer3, stddev=0.1))\n",
    "    # Bias RANDOM (1)\n",
    "    tf_layer3_bias = tf.Variable(tf.constant(1.0, shape=[num_hidden]))\n",
    "    \n",
    "    # Layer4 FULL\n",
    "    # Dimens   = lunghezza, altezza\n",
    "    dim_layer4 = [num_hidden, num_hidden]\n",
    "    # Pesi RANDOM + TRUNCATE \n",
    "    tf_layer4_pesi = tf.Variable(\n",
    "                tf.truncated_normal(dim_layer4, stddev=0.1))\n",
    "    # Bias RANDOM (1)\n",
    "    tf_layer4_bias = tf.Variable(tf.constant(1.0, shape=[num_hidden]))\n",
    "    \n",
    "    # Layer5 FULL\n",
    "    # Dimens   = lunghezza, altezza\n",
    "    dim_layer5 = [num_hidden, num_labels]\n",
    "    # Pesi RANDOM + TRUNCATE \n",
    "    tf_layer5_pesi = tf.Variable(\n",
    "                tf.truncated_normal(dim_layer5, stddev=0.1))\n",
    "    # Bias RANDOM (1)\n",
    "    tf_layer5_bias = tf.Variable(tf.constant(1.0, shape=[num_labels]))\n",
    "    \n",
    "    \n",
    "    #\n",
    "    # MODELLO\n",
    "    # \n",
    "    def model(data):\n",
    "        # Convolutional LAYER1\n",
    "        conv_1 = tf.nn.conv2d(data, tf_layer1_pesi, \n",
    "                              strides=[1, stride, stride, 1], \n",
    "                              padding='VALID')\n",
    "        # RELU LAYER1\n",
    "        hidden_1 = tf.nn.relu(conv_1 + tf_layer1_bias)\n",
    "        # Average POOLING LAYER1\n",
    "        pool_1 = tf.nn.avg_pool(hidden_1, \n",
    "                                [1, pool_size, pool_size, 1], \n",
    "                                [1, pool_stride, pool_stride, 1], \n",
    "                                padding='VALID')\n",
    "        \n",
    "        # Convolutional LAYER2\n",
    "        conv_2 = tf.nn.conv2d(pool_1, tf_layer2_pesi, \n",
    "                              strides=[1, stride, stride, 1], \n",
    "                              padding='VALID')\n",
    "        # RELU LAYER2\n",
    "        hidden_2 = tf.nn.relu(conv_2 + tf_layer2_bias)\n",
    "        # Average POOLING LAYER2\n",
    "        pool_2 = tf.nn.avg_pool(hidden_2, \n",
    "                                [1, pool_size, pool_size, 1], \n",
    "                                [1, pool_stride, pool_stride, 1], \n",
    "                                padding='VALID')\n",
    "        \n",
    "        # Full Connected LAYER3\n",
    "        shape = pool_2.get_shape().as_list()\n",
    "        reshape = tf.reshape(pool_2, \n",
    "                            [shape[0], shape[1] * shape[2] * shape[3]])\n",
    "        # RELU LAYER3\n",
    "        hidden_3 = tf.nn.relu(tf.matmul(reshape, \n",
    "                                      tf_layer3_pesi) + tf_layer3_bias)\n",
    "        # DROPOUT LAYER3\n",
    "        hidden_drop_3 = tf.nn.dropout(hidden_3, keep_prob)\n",
    "        \n",
    "        # Full Connected RELU LAYER4\n",
    "        hidden_4 = tf.nn.relu(tf.matmul(hidden_drop_3, \n",
    "                                        tf_layer4_pesi) + tf_layer4_bias)\n",
    "        # DROPOUT LAYER4\n",
    "        hidden_drop_4 = tf.nn.dropout(hidden_4, keep_prob)\n",
    "        \n",
    "        return tf.matmul(hidden_drop_4, tf_layer5_pesi) + tf_layer5_bias\n",
    "    \n",
    "    # ESECUZIONE\n",
    "    logits = model(tf_train_data)\n",
    "    loss = tf.reduce_mean(tf.nn.softmax_cross_entropy_with_logits(\n",
    "                            labels=tf_train_target, logits=logits))  \n",
    "    # REGULARIZZATION\n",
    "    # N.B. La regolarizzazione si applica solitamente tra reti full-connected.\n",
    "    regularizers = tf.nn.l2_loss(tf_layer4_pesi) + tf.nn.l2_loss(tf_layer5_pesi)\n",
    "    loss = tf.reduce_mean(loss + 0.001 * regularizers)\n",
    "    \n",
    "    # DECAY\n",
    "    global_step = tf.Variable(0)  \n",
    "    start_learning_rate = 0.05\n",
    "    learning_rate = tf.train.exponential_decay(start_learning_rate, \n",
    "                                               global_step, \n",
    "                                               100000, \n",
    "                                               0.96, \n",
    "                                               staircase=True)\n",
    "\n",
    "    optimizer = tf.train.GradientDescentOptimizer(learning_rate).minimize(loss)\n",
    "    \n",
    "    # ADDESTRAMENTO\n",
    "    train_prediction = tf.nn.softmax(logits)\n",
    "    # VALIDAZIONE e TEST\n",
    "    valid_prediction = tf.nn.softmax(model(tf_valid_data))\n",
    "    test_prediction = tf.nn.softmax(model(tf_test_data))"
   ]
  },
  {
   "cell_type": "code",
   "execution_count": 68,
   "metadata": {},
   "outputs": [
    {
     "name": "stdout",
     "output_type": "stream",
     "text": [
      "--- Initialized ---\nMinibatch loss at step 0: 2.572545\nMinibatch accuracy: 12.5%\n"
     ]
    },
    {
     "name": "stdout",
     "output_type": "stream",
     "text": [
      "Validation accuracy: 10.2%\n"
     ]
    },
    {
     "name": "stdout",
     "output_type": "stream",
     "text": [
      "Minibatch loss at step 5000: 0.880083\nMinibatch accuracy: 81.2%\n"
     ]
    },
    {
     "name": "stdout",
     "output_type": "stream",
     "text": [
      "Validation accuracy: 80.1%\n"
     ]
    },
    {
     "name": "stdout",
     "output_type": "stream",
     "text": [
      "Minibatch loss at step 10000: 0.566940\nMinibatch accuracy: 81.2%\n"
     ]
    },
    {
     "name": "stdout",
     "output_type": "stream",
     "text": [
      "Validation accuracy: 83.5%\n"
     ]
    },
    {
     "name": "stdout",
     "output_type": "stream",
     "text": [
      "Minibatch loss at step 15000: 0.957330\nMinibatch accuracy: 68.8%\n"
     ]
    },
    {
     "name": "stdout",
     "output_type": "stream",
     "text": [
      "Validation accuracy: 84.9%\n"
     ]
    },
    {
     "name": "stdout",
     "output_type": "stream",
     "text": [
      "Minibatch loss at step 20000: 0.369184\nMinibatch accuracy: 87.5%\n"
     ]
    },
    {
     "name": "stdout",
     "output_type": "stream",
     "text": [
      "Validation accuracy: 85.3%\n"
     ]
    },
    {
     "name": "stdout",
     "output_type": "stream",
     "text": [
      "Minibatch loss at step 25000: 0.538086\nMinibatch accuracy: 87.5%\n"
     ]
    },
    {
     "name": "stdout",
     "output_type": "stream",
     "text": [
      "Validation accuracy: 85.8%\n"
     ]
    },
    {
     "name": "stdout",
     "output_type": "stream",
     "text": [
      "Test accuracy: 92.7%\n"
     ]
    }
   ],
   "source": [
    "num_steps = 30000\n",
    "\n",
    "with tf.Session(graph=graph) as session:\n",
    "    tf.global_variables_initializer().run()\n",
    "    \n",
    "    print('--- Initialized ---')\n",
    "    for step in range(num_steps):\n",
    "        offset = (step * batch_size) % (train_target.shape[0] - batch_size)\n",
    "        \n",
    "        batch_data = train_data[offset:(offset + batch_size), :, :, :]\n",
    "        batch_labels = train_target[offset:(offset + batch_size), :]\n",
    "        \n",
    "        feed_dict = {tf_train_data : batch_data, \n",
    "                     tf_train_target : batch_labels}\n",
    "        _, l, predictions = session.run([optimizer, loss, train_prediction], \n",
    "                                        feed_dict=feed_dict)\n",
    "        \n",
    "        if (step % 5000 == 0):\n",
    "            print('Minibatch loss at step %d: %f' % (step, l))\n",
    "            print('Minibatch accuracy: %.1f%%' % accuracy(predictions, \n",
    "                                                          batch_labels))\n",
    "            print('Validation accuracy: %.1f%%' % accuracy(valid_prediction.eval(), \n",
    "                                                           valid_target))\n",
    "    print('Test accuracy: %.1f%%' % accuracy(test_prediction.eval(), \n",
    "                                                            test_target))\n",
    "    "
   ]
  },
  {
   "cell_type": "markdown",
   "metadata": {},
   "source": [
    "IN -> CNN -> RELU + POOL -> RESHAPE -> FULL + RELU + DROPOUT -> FULL(OUT)"
   ]
  },
  {
   "cell_type": "code",
   "execution_count": 74,
   "metadata": {},
   "outputs": [],
   "source": [
    "graph = tf.Graph()\n",
    "\n",
    "with graph.as_default():\n",
    "    \n",
    "    tf_train_data = tf.placeholder(tf.float32,\n",
    "            shape=(batch_size, image_size, image_size, num_channels))\n",
    "    tf_train_target = tf.placeholder(tf.float32,\n",
    "            shape=(batch_size,                         num_labels))\n",
    "    \n",
    "    tf_valid_data = tf.constant(valid_data)\n",
    "    tf_test_data  = tf.constant(test_data)\n",
    "    \n",
    "    # Layer1 CNN + RELU + POOL\n",
    "    dim_layer1 = [patch_size, patch_size, num_channels, 16]\n",
    "    tf_layer1_pesi = tf.Variable(\n",
    "                tf.truncated_normal(dim_layer1, stddev=0.1))\n",
    "    tf_layer1_bias = tf.Variable(tf.zeros([16]))\n",
    "    \n",
    "    # Layer3 FULL\n",
    "    dim_layer3 = [12 * 12 * 16, num_hidden]\n",
    "    tf_layer3_pesi = tf.Variable(\n",
    "                tf.truncated_normal(dim_layer3, stddev=0.1))\n",
    "    tf_layer3_bias = tf.Variable(tf.constant(1.0, shape=[num_hidden]))\n",
    "    \n",
    "    # Layer5 FULL\n",
    "    dim_layer5 = [num_hidden, num_labels]\n",
    "    tf_layer5_pesi = tf.Variable(\n",
    "                tf.truncated_normal(dim_layer5, stddev=0.1))\n",
    "    tf_layer5_bias = tf.Variable(tf.constant(1.0, shape=[num_labels]))\n",
    "    \n",
    "    #\n",
    "    # MODELLO\n",
    "    # \n",
    "    def model(data):\n",
    "        # Convolutional LAYER1\n",
    "        conv_1 = tf.nn.conv2d(data, tf_layer1_pesi, \n",
    "                              strides=[1, stride, stride, 1], \n",
    "                              padding='VALID')\n",
    "        # RELU LAYER1\n",
    "        hidden_1 = tf.nn.relu(conv_1 + tf_layer1_bias)\n",
    "        # Average POOLING LAYER1\n",
    "        pool_1 = tf.nn.avg_pool(hidden_1, \n",
    "                                [1, pool_size, pool_size, 1], \n",
    "                                [1, pool_stride, pool_stride, 1], \n",
    "                                padding='VALID')\n",
    "        \n",
    "        # Full Connected LAYER3\n",
    "        shape = pool_1.get_shape().as_list()\n",
    "        reshape = tf.reshape(pool_1, \n",
    "                            [shape[0], shape[1] * shape[2] * shape[3]])\n",
    "        # RELU LAYER3\n",
    "        hidden_3 = tf.nn.relu(tf.matmul(reshape, \n",
    "                                      tf_layer3_pesi) + tf_layer3_bias)\n",
    "        # DROPOUT LAYER3\n",
    "        hidden_drop_3 = tf.nn.dropout(hidden_3, keep_prob)\n",
    "        \n",
    "        return tf.matmul(hidden_drop_3, tf_layer5_pesi) + tf_layer5_bias\n",
    "    \n",
    "    # ESECUZIONE\n",
    "    logits = model(tf_train_data)\n",
    "    loss = tf.reduce_mean(tf.nn.softmax_cross_entropy_with_logits(\n",
    "                            labels=tf_train_target, logits=logits))  \n",
    "    # REGULARIZZATION\n",
    "    # N.B. Tra reti full-connected.\n",
    "    regularizers = tf.nn.l2_loss(tf_layer5_pesi)\n",
    "    loss = tf.reduce_mean(loss + 0.001 * regularizers)\n",
    "    \n",
    "    # DECAY\n",
    "    global_step = tf.Variable(0)  \n",
    "    start_learning_rate = 0.05\n",
    "    learning_rate = tf.train.exponential_decay(start_learning_rate, \n",
    "                                               global_step, \n",
    "                                               100000, \n",
    "                                               0.96, \n",
    "                                               staircase=True)\n",
    "    optimizer = tf.train.GradientDescentOptimizer(\n",
    "                                    learning_rate).minimize(loss)\n",
    "    # ADDESTRAMENTO\n",
    "    train_prediction = tf.nn.softmax(logits)\n",
    "    # VALIDAZIONE e TEST\n",
    "    valid_prediction = tf.nn.softmax(model(tf_valid_data))\n",
    "    test_prediction = tf.nn.softmax(model(tf_test_data))\n",
    "    "
   ]
  },
  {
   "cell_type": "code",
   "execution_count": 75,
   "metadata": {},
   "outputs": [
    {
     "name": "stdout",
     "output_type": "stream",
     "text": [
      "--- Initialized ---\nMinibatch loss at step 0: 3.047375\nMinibatch accuracy: 6.2%\n"
     ]
    },
    {
     "name": "stdout",
     "output_type": "stream",
     "text": [
      "Validation accuracy: 8.5%\n"
     ]
    },
    {
     "name": "stdout",
     "output_type": "stream",
     "text": [
      "Minibatch loss at step 5000: 0.526570\nMinibatch accuracy: 87.5%\n"
     ]
    },
    {
     "name": "stdout",
     "output_type": "stream",
     "text": [
      "Validation accuracy: 82.5%\n"
     ]
    },
    {
     "name": "stdout",
     "output_type": "stream",
     "text": [
      "Minibatch loss at step 10000: 0.636094\nMinibatch accuracy: 81.2%\n"
     ]
    },
    {
     "name": "stdout",
     "output_type": "stream",
     "text": [
      "Validation accuracy: 83.5%\n"
     ]
    },
    {
     "name": "stdout",
     "output_type": "stream",
     "text": [
      "Minibatch loss at step 15000: 0.751565\nMinibatch accuracy: 68.8%\n"
     ]
    },
    {
     "name": "stdout",
     "output_type": "stream",
     "text": [
      "Validation accuracy: 84.5%\n"
     ]
    },
    {
     "name": "stdout",
     "output_type": "stream",
     "text": [
      "Minibatch loss at step 20000: 0.400297\nMinibatch accuracy: 87.5%\n"
     ]
    },
    {
     "name": "stdout",
     "output_type": "stream",
     "text": [
      "Validation accuracy: 85.5%\n"
     ]
    },
    {
     "name": "stdout",
     "output_type": "stream",
     "text": [
      "Minibatch loss at step 25000: 0.749457\nMinibatch accuracy: 87.5%\n"
     ]
    },
    {
     "name": "stdout",
     "output_type": "stream",
     "text": [
      "Validation accuracy: 85.8%\n"
     ]
    },
    {
     "name": "stdout",
     "output_type": "stream",
     "text": [
      "Test accuracy: 92.0%\n"
     ]
    }
   ],
   "source": [
    "with tf.Session(graph=graph) as session:\n",
    "    tf.global_variables_initializer().run()\n",
    "    \n",
    "    print('--- Initialized ---')\n",
    "    for step in range(num_steps):\n",
    "        offset = (step * batch_size) % (train_target.shape[0] - batch_size)\n",
    "        \n",
    "        batch_data = train_data[offset:(offset + batch_size), :, :, :]\n",
    "        batch_labels = train_target[offset:(offset + batch_size), :]\n",
    "        \n",
    "        feed_dict = {tf_train_data : batch_data, \n",
    "                     tf_train_target : batch_labels}\n",
    "        _, l, predictions = session.run([optimizer, loss, train_prediction], \n",
    "                                        feed_dict=feed_dict)\n",
    "        \n",
    "        if (step % 5000 == 0):\n",
    "            print('Minibatch loss at step %d: %f' % (step, l))\n",
    "            print('Minibatch accuracy: %.1f%%' % accuracy(predictions, \n",
    "                                                          batch_labels))\n",
    "            print('Validation accuracy: %.1f%%' % accuracy(valid_prediction.eval(), \n",
    "                                                           valid_target))\n",
    "    print('Test accuracy: %.1f%%' % accuracy(test_prediction.eval(), \n",
    "                                                            test_target))\n",
    "    "
   ]
  }
 ],
 "metadata": {
  "kernelspec": {
   "display_name": "Python 2",
   "language": "python",
   "name": "python2"
  },
  "language_info": {
   "codemirror_mode": {
    "name": "ipython",
    "version": 2
   },
   "file_extension": ".py",
   "mimetype": "text/x-python",
   "name": "python",
   "nbconvert_exporter": "python",
   "pygments_lexer": "ipython2",
   "version": "2.7.6"
  }
 },
 "nbformat": 4,
 "nbformat_minor": 0
}
