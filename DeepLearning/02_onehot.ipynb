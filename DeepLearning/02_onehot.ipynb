{
 "cells": [
  {
   "cell_type": "markdown",
   "metadata": {
    "collapsed": true
   },
   "source": [
    "# Unita: One-hot encoding\n",
    "\n",
    "Codifica One-hot encoding usando scikit-learn"
   ]
  },
  {
   "cell_type": "code",
   "execution_count": 1,
   "metadata": {
    "collapsed": true
   },
   "outputs": [],
   "source": [
    "from numpy import array\n",
    "from numpy import argmax\n",
    "from sklearn.preprocessing import LabelEncoder\n",
    "from sklearn.preprocessing import OneHotEncoder"
   ]
  },
  {
   "cell_type": "markdown",
   "metadata": {
    "collapsed": true
   },
   "source": [
    "# Problema #1\n",
    "\n",
    "Implementa una funzione che, dato un vettore in input, restituisca la relativa rappresentazione one-hot.\n",
    "\n",
    "Confronta il risultato con la funzione OneHotEncoder in sklearn.preprocessing."
   ]
  },
  {
   "cell_type": "code",
   "execution_count": 2,
   "metadata": {
    "collapsed": true
   },
   "outputs": [],
   "source": [
    "# vettore in input\n",
    "\n",
    "v = ['rosso', 'rosso', 'bianco', 'nero', 'bianco', 'nero', 'nero']"
   ]
  },
  {
   "cell_type": "code",
   "execution_count": 3,
   "metadata": {},
   "outputs": [],
   "source": [
    "# da list a array\n",
    "\n",
    "a = array(v)"
   ]
  },
  {
   "cell_type": "code",
   "execution_count": 4,
   "metadata": {},
   "outputs": [
    {
     "name": "stdout",
     "output_type": "stream",
     "text": [
      "[2 2 0 1 0 1 1]\n"
     ]
    }
   ],
   "source": [
    "# integer encoder \n",
    "\n",
    "le = LabelEncoder()\n",
    "iv = le.fit_transform(a)\n",
    "print(iv)"
   ]
  },
  {
   "cell_type": "code",
   "execution_count": 11,
   "metadata": {},
   "outputs": [
    {
     "name": "stdout",
     "output_type": "stream",
     "text": [
      "   B   N   R\n[[ 0.  0.  1.]\n [ 0.  0.  1.]\n [ 1.  0.  0.]\n [ 0.  1.  0.]\n [ 1.  0.  0.]\n [ 0.  1.  0.]\n [ 0.  1.  0.]]\n"
     ]
    }
   ],
   "source": [
    "# one-hot encoder\n",
    "\n",
    "oe = OneHotEncoder(sparse=False)\n",
    "\n",
    "# converto l'array N-dim in matrice N-dim x 1\n",
    "iv = iv.reshape(len(iv), 1)\n",
    "bv = oe.fit_transform(iv)\n",
    "print('   B   N   R')\n",
    "print(bv)\n"
   ]
  }
 ],
 "metadata": {
  "kernelspec": {
   "display_name": "Python 3",
   "language": "python",
   "name": "python3"
  },
  "language_info": {
   "codemirror_mode": {
    "name": "ipython",
    "version": 3
   },
   "file_extension": ".py",
   "mimetype": "text/x-python",
   "name": "python",
   "nbconvert_exporter": "python",
   "pygments_lexer": "ipython3",
   "version": "3.6.1"
  }
 },
 "nbformat": 4,
 "nbformat_minor": 2
}
