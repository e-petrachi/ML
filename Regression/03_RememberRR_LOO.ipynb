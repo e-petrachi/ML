{
 "cells": [
  {
   "cell_type": "markdown",
   "metadata": {},
   "source": [
    "# RIDGE REGRESSION e K_FOLD CV"
   ]
  },
  {
   "cell_type": "code",
   "execution_count": 2,
   "metadata": {},
   "outputs": [],
   "source": [
    "import graphlab\n",
    "import numpy\n",
    "from matplotlib import pyplot as plt\n",
    "%matplotlib inline"
   ]
  },
  {
   "cell_type": "code",
   "execution_count": 21,
   "metadata": {},
   "outputs": [],
   "source": [
    "black = \"\\033[1;30;48m\"\n",
    "red = \"\\033[1;31;48m\"\n",
    "blue = \"\\033[1;34;48m\""
   ]
  },
  {
   "cell_type": "code",
   "execution_count": 22,
   "metadata": {
    "collapsed": true
   },
   "outputs": [
    {
     "data": {
      "text/html": [
       "<pre>Finished parsing file /Users/Administrator/Development/GraphLabProjects/ML/Regression/data/kc_house_data.csv</pre>"
      ],
      "text/plain": [
       "<pre>Finished parsing file /Users/Administrator/Development/GraphLabProjects/ML/Regression/data/kc_house_data.csv</pre>"
      ]
     },
     "execution_count": 0,
     "metadata": {},
     "output_type": "execute_result"
    },
    {
     "data": {
      "text/html": [
       "<pre>Parsing completed. Parsed 100 lines in 0.198964 secs.</pre>"
      ],
      "text/plain": [
       "<pre>Parsing completed. Parsed 100 lines in 0.198964 secs.</pre>"
      ]
     },
     "execution_count": 0,
     "metadata": {},
     "output_type": "execute_result"
    },
    {
     "name": "stdout",
     "output_type": "stream",
     "text": [
      "------------------------------------------------------\nInferred types from first 100 line(s) of file as \ncolumn_type_hints=[int,str,float,int,float,int,int,float,int,int,int,int,int,int,int,int,int,float,float,int,int]\nIf parsing fails due to incorrect types, you can correct\nthe inferred type list above and pass it to read_csv in\nthe column_type_hints argument\n------------------------------------------------------\n"
     ]
    },
    {
     "data": {
      "text/html": [
       "<pre>Finished parsing file /Users/Administrator/Development/GraphLabProjects/ML/Regression/data/kc_house_data.csv</pre>"
      ],
      "text/plain": [
       "<pre>Finished parsing file /Users/Administrator/Development/GraphLabProjects/ML/Regression/data/kc_house_data.csv</pre>"
      ]
     },
     "execution_count": 0,
     "metadata": {},
     "output_type": "execute_result"
    },
    {
     "data": {
      "text/html": [
       "<pre>Parsing completed. Parsed 21613 lines in 0.322395 secs.</pre>"
      ],
      "text/plain": [
       "<pre>Parsing completed. Parsed 21613 lines in 0.322395 secs.</pre>"
      ]
     },
     "execution_count": 0,
     "metadata": {},
     "output_type": "execute_result"
    }
   ],
   "source": [
    "data = graphlab.SFrame(\"Regression/data/kc_house_data.csv\")\n",
    "train_data, test_data = data.random_split(.8,seed=0)"
   ]
  },
  {
   "cell_type": "code",
   "execution_count": 23,
   "metadata": {},
   "outputs": [
    {
     "data": {
      "text/plain": [
       "21613"
      ]
     },
     "execution_count": 23,
     "metadata": {},
     "output_type": "execute_result"
    }
   ],
   "source": [
    "data.head()\n",
    "len(data)"
   ]
  },
  {
   "cell_type": "markdown",
   "metadata": {},
   "source": [
    "## REGRESSION con graphlab"
   ]
  },
  {
   "cell_type": "code",
   "execution_count": 24,
   "metadata": {},
   "outputs": [],
   "source": [
    "def polynomial_regression(data, l2 = 0., l1 = 0.):\n",
    "    model = graphlab.linear_regression.create(data,\n",
    "                                              target='price',\n",
    "                                              features=['sqft_living','bedrooms','bathrooms'],\n",
    "                                              l2_penalty=l2,\n",
    "                                              l1_penalty=l1,\n",
    "                                              validation_set=None,\n",
    "                                              verbose=False)\n",
    "    return model"
   ]
  },
  {
   "cell_type": "markdown",
   "metadata": {},
   "source": [
    "METODI di SUPPORTO"
   ]
  },
  {
   "cell_type": "code",
   "execution_count": 25,
   "metadata": {},
   "outputs": [],
   "source": [
    "def print_coefficients(model):\n",
    "    grado = len(model.coefficients['value'])-1\n",
    "    \n",
    "    w = list(model.coefficients['value'])\n",
    "    w.reverse()\n",
    "    \n",
    "    overfit = False\n",
    "    \n",
    "    for peso in w:\n",
    "        if peso > 1000:\n",
    "            overfit = True\n",
    "        \n",
    "    if overfit == False:\n",
    "        print(blue + 'Grado ' + str(grado) + ':')\n",
    "        print numpy.poly1d(w)\n",
    "    else:\n",
    "        print(red + 'Grado ' + str(grado) + ':')\n",
    "        print(numpy.poly1d(w))"
   ]
  },
  {
   "cell_type": "markdown",
   "metadata": {},
   "source": [
    "## CREAZIONE del MODELLO"
   ]
  },
  {
   "cell_type": "markdown",
   "metadata": {},
   "source": [
    "· PROVO senza L2"
   ]
  },
  {
   "cell_type": "code",
   "execution_count": 26,
   "metadata": {},
   "outputs": [
    {
     "name": "stdout",
     "output_type": "stream",
     "text": [
      "\u001b[1;31;48mGrado 3:\n      3             2\n6942 x - 6.508e+04 x + 315.4 x + 8.791e+04\n"
     ]
    }
   ],
   "source": [
    "model = polynomial_regression(train_data)\n",
    "print_coefficients(model)"
   ]
  },
  {
   "cell_type": "markdown",
   "metadata": {},
   "source": [
    "· PROVO con L2 molto PICCOLO e ricalcolo"
   ]
  },
  {
   "cell_type": "code",
   "execution_count": 27,
   "metadata": {},
   "outputs": [
    {
     "name": "stdout",
     "output_type": "stream",
     "text": [
      "\u001b[1;31;48mGrado 3:\n      3             2\n6942 x - 6.508e+04 x + 315.4 x + 8.791e+04\n"
     ]
    }
   ],
   "source": [
    "model_smallL2 = polynomial_regression(train_data, l2=1e-30)\n",
    "print_coefficients(model_smallL2)"
   ]
  },
  {
   "cell_type": "markdown",
   "metadata": {},
   "source": [
    "· PROVO con diversi L2 crescenti e ricalcolo"
   ]
  },
  {
   "cell_type": "code",
   "execution_count": 35,
   "metadata": {
    "scrolled": false
   },
   "outputs": [
    {
     "name": "stdout",
     "output_type": "stream",
     "text": [
      "\u001b[1;30;48m\t\t\t\t\tL2 = 1.00e-25\n\u001b[1;31;48mGrado 3:\n      3             2\n6942 x - 6.508e+04 x + 315.4 x + 8.791e+04\n---------------------------------------------------------------------------\n\n\u001b[1;30;48m\t\t\t\t\tL2 = 1.00e-10\n\u001b[1;31;48mGrado 3:\n      3             2\n6942 x - 6.508e+04 x + 315.4 x + 8.791e+04\n---------------------------------------------------------------------------\n\n"
     ]
    },
    {
     "name": "stdout",
     "output_type": "stream",
     "text": [
      "\u001b[1;30;48m\t\t\t\t\tL2 = 1.00e-06\n\u001b[1;31;48mGrado 3:\n      3             2\n6942 x - 6.508e+04 x + 315.4 x + 8.791e+04\n---------------------------------------------------------------------------\n\n\u001b[1;30;48m\t\t\t\t\tL2 = 1.00e-04\n\u001b[1;31;48mGrado 3:\n      3             2\n6942 x - 6.508e+04 x + 315.4 x + 8.791e+04\n---------------------------------------------------------------------------\n\n"
     ]
    },
    {
     "name": "stdout",
     "output_type": "stream",
     "text": [
      "\u001b[1;30;48m\t\t\t\t\tL2 = 1.00e-03\n\u001b[1;31;48mGrado 3:\n      3             2\n6942 x - 6.508e+04 x + 315.4 x + 8.791e+04\n---------------------------------------------------------------------------\n\n\u001b[1;30;48m\t\t\t\t\tL2 = 1.00e+02\n\u001b[1;31;48mGrado 3:\n           3             2\n2.225e+04 x - 5.079e+04 x + 287.4 x + 6.574e+04\n---------------------------------------------------------------------------\n\n"
     ]
    }
   ],
   "source": [
    "for l2 in [1e-25, 1e-10, 1e-6, 1e-4, 1e-3, 1e2]:\n",
    "    model = polynomial_regression(train_data, l2=l2)\n",
    "    print(black + '\\t\\t\\t\\t\\tL2 = %.2e' % l2)\n",
    "    print_coefficients(model)\n",
    "    print '---------------------------------------------------------------------------\\n'"
   ]
  },
  {
   "cell_type": "markdown",
   "metadata": {},
   "source": [
    "## LEAVE ONE OUT cross validation ~ (K_FOLD)"
   ]
  },
  {
   "cell_type": "code",
   "execution_count": 46,
   "metadata": {},
   "outputs": [],
   "source": [
    "def loo(data, l2):\n",
    "    \n",
    "    # per velocizzare di solito num_folds = len(data)\n",
    "    num_folds = len(data)/1000\n",
    "    folds = graphlab.cross_validation.KFold(data, num_folds)\n",
    "    \n",
    "    l2_penalty_mae = []\n",
    "    min_mae = None\n",
    "    best_l2_penalty = None\n",
    "    \n",
    "    for l2_value in l2:\n",
    "        next_mae = 0.0\n",
    "        for train_set, validation_set in folds:\n",
    "            \n",
    "            model = polynomial_regression(train_set, l2=l2_value)\n",
    "            \n",
    "            y_test_predicted = model.predict(validation_set)\n",
    "            next_mae += (abs(y_test_predicted-validation_set['price'])).sum()\n",
    "        \n",
    "        print(\"L2: \", l2_value)\n",
    "        next_mae = next_mae/num_folds\n",
    "        l2_penalty_mae.append(next_mae)\n",
    "        if min_mae is None or next_mae < min_mae:\n",
    "            min_mae = next_mae\n",
    "            best_l2_penalty = l2_value\n",
    "            \n",
    "    return l2_penalty_mae,best_l2_penalty"
   ]
  },
  {
   "cell_type": "markdown",
   "metadata": {},
   "source": [
    "Risultati e PLOT"
   ]
  },
  {
   "cell_type": "code",
   "execution_count": 54,
   "metadata": {},
   "outputs": [
    {
     "name": "stdout",
     "output_type": "stream",
     "text": [
      "('L2: ', 0.001)\n"
     ]
    },
    {
     "name": "stdout",
     "output_type": "stream",
     "text": [
      "('L2: ', 0.01291549665014884)\n"
     ]
    },
    {
     "name": "stdout",
     "output_type": "stream",
     "text": [
      "('L2: ', 0.1668100537200059)\n"
     ]
    },
    {
     "name": "stdout",
     "output_type": "stream",
     "text": [
      "('L2: ', 2.1544346900318843)\n"
     ]
    },
    {
     "name": "stdout",
     "output_type": "stream",
     "text": [
      "('L2: ', 27.825594022071257)\n"
     ]
    },
    {
     "name": "stdout",
     "output_type": "stream",
     "text": [
      "('L2: ', 359.38136638046257)\n"
     ]
    },
    {
     "name": "stdout",
     "output_type": "stream",
     "text": [
      "('L2: ', 4641.5888336127819)\n"
     ]
    },
    {
     "name": "stdout",
     "output_type": "stream",
     "text": [
      "('L2: ', 59948.425031894214)\n"
     ]
    },
    {
     "name": "stdout",
     "output_type": "stream",
     "text": [
      "('L2: ', 774263.6826811278)\n"
     ]
    },
    {
     "name": "stdout",
     "output_type": "stream",
     "text": [
      "('L2: ', 10000000.0)\n"
     ]
    }
   ],
   "source": [
    "# TODO set -4 to 10\n",
    "l2 = numpy.logspace(-3, 7, num=10)\n",
    "l2_penalty_mae,best_l2_penalty = loo(train_data, l2)"
   ]
  },
  {
   "cell_type": "code",
   "execution_count": 16,
   "metadata": {},
   "outputs": [
    {
     "name": "stdout",
     "output_type": "stream",
     "text": [
      "('L2_best = ', 359.38136638046257)\n"
     ]
    }
   ],
   "source": [
    "print(\"L2_best = \", best_l2_penalty)"
   ]
  },
  {
   "cell_type": "code",
   "execution_count": 18,
   "metadata": {},
   "outputs": [
    {
     "data": {
      "image/png": "[encoded data removed]",
      "text/plain": [
       "<matplotlib.figure.Figure at 0x11b56a1d0>"
      ]
     },
     "metadata": {},
     "output_type": "display_data"
    }
   ],
   "source": [
    "plt.plot(l2,l2_penalty_mae,'k-')\n",
    "plt.xlabel('$\\ell_2$ penalty')\n",
    "plt.ylabel('LOO error')\n",
    "plt.xscale('log')\n",
    "plt.yscale('log')"
   ]
  },
  {
   "cell_type": "markdown",
   "metadata": {},
   "source": [
    "## RIPETO la REGRESSION con il BEST L2"
   ]
  },
  {
   "cell_type": "code",
   "execution_count": 19,
   "metadata": {},
   "outputs": [
    {
     "name": "stdout",
     "output_type": "stream",
     "text": [
      "\u001b[1;31;48mGrado 3:\n          3             2\n4.39e+04 x - 2.798e+04 x + 240.2 x + 4.112e+04\n"
     ]
    }
   ],
   "source": [
    "model = polynomial_regression(train_data, l2=best_l2_penalty)\n",
    "print_coefficients(model)"
   ]
  },
  {
   "cell_type": "code",
   "execution_count": null,
   "metadata": {},
   "outputs": [],
   "source": []
  }
 ],
 "metadata": {
  "kernelspec": {
   "display_name": "Python 2",
   "language": "python",
   "name": "python2"
  },
  "language_info": {
   "codemirror_mode": {
    "name": "ipython",
    "version": 2
   },
   "file_extension": ".py",
   "mimetype": "text/x-python",
   "name": "python",
   "nbconvert_exporter": "python",
   "pygments_lexer": "ipython2",
   "version": "2.7.13"
  }
 },
 "nbformat": 4,
 "nbformat_minor": 2
}
